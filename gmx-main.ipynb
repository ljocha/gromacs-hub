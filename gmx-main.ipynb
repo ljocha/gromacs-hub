{
 "cells": [
  {
   "cell_type": "code",
   "execution_count": null,
   "id": "43a7326c",
   "metadata": {},
   "outputs": [],
   "source": [
    "import ipywidgets as w\n",
    "import nglview as nv\n",
    "import glob"
   ]
  },
  {
   "cell_type": "code",
   "execution_count": null,
   "id": "f429afe1",
   "metadata": {},
   "outputs": [],
   "source": [
    "pdbview = nv.NGLWidget()\n",
    "pdbview_component = None\n",
    "cartoon = w.Checkbox(description='Cartoon',value=True)\n",
    "licorice = w.Checkbox(description='Licorice',value=True)\n",
    "\n",
    "def on_checkbox_click(e):\n",
    "    set_pdbview_representation()\n",
    "\n",
    "cartoon.observe(on_checkbox_click,names='value')\n",
    "licorice.observe(on_checkbox_click,names='value')"
   ]
  },
  {
   "cell_type": "code",
   "execution_count": null,
   "id": "1b17f1d8",
   "metadata": {},
   "outputs": [],
   "source": [
    "pdbs = w.Dropdown(\n",
    "    options=glob.glob('*.pdb') + ['none'],\n",
    "    value='none',\n",
    "    description='Current filename',\n",
    "    disabled=False,\n",
    ")\n",
    "\n",
    "def set_pdbview_representation():\n",
    "    pdbview.clear()\n",
    "    if cartoon.value:\n",
    "        pdbview.add_cartoon(color='restype')\n",
    "    if licorice.value:\n",
    "        pdbview.add_licorice()\n",
    "\n",
    "\n",
    "def pdb_choose(e):\n",
    "    global pdbview_component\n",
    "    print('pdb_choose:',e)\n",
    "    if pdbview.n_components > 0:\n",
    "        pdbview.remove_component(pdbview_component)\n",
    "    pdbs.value = e['new']\n",
    "    if pdbs.value != 'none':\n",
    "        pdbview_component = pdbview.add_component(pdbs.value)\n",
    "        set_pdbview_representation()\n",
    "    \n",
    "\n",
    "pdbs.observe(pdb_choose,'value')\n"
   ]
  },
  {
   "cell_type": "code",
   "execution_count": null,
   "id": "ad34348b",
   "metadata": {},
   "outputs": [],
   "source": [
    "upload = w.FileUpload(accept='pdb',multiple=False)\n",
    "\n",
    "def on_upload_pdb(c):\n",
    "#    global pdbview_component\n",
    "#    print(upload.value)\n",
    "    fname = list(upload.value.keys())[0]\n",
    "    with open(fname,'wb') as f:\n",
    "        f.write(list(upload.value.values())[0]['content'])\n",
    "    \n",
    "    pdbs.options = glob.glob('*.pdb') + ['none']\n",
    "#    pdbs.value = fname\n",
    "    upload.value.clear()\n",
    "    pdb_choose({'new':fname})\n",
    "\n",
    "#    if pdbview.n_components > 0:\n",
    "#        pdbview.remove_component(pdbview_component)\n",
    "#    pdbview_component = pdbview.add_component(name.value)\n",
    "#    set_pdbview_representation()\n",
    "    \n",
    "\n",
    "    \n",
    "    \n",
    "upload.observe(on_upload_pdb,'_counter')\n"
   ]
  },
  {
   "cell_type": "code",
   "execution_count": null,
   "id": "95c38dbd",
   "metadata": {},
   "outputs": [],
   "source": [
    "start = w.Button(\n",
    "    description='Run',\n",
    "    disabled=False,\n",
    "    button_style='danger', # 'success', 'info', 'warning', 'danger' or ''\n",
    "    tooltip='Run',\n",
    "    icon='check', # (FontAwesome names without the `fa-` prefix)\n",
    ")"
   ]
  },
  {
   "cell_type": "code",
   "execution_count": null,
   "id": "c8d7527f",
   "metadata": {},
   "outputs": [],
   "source": [
    "main = w.VBox([upload, pdbs, pdbview, cartoon, licorice, start])\n",
    "display(main)"
   ]
  },
  {
   "cell_type": "code",
   "execution_count": null,
   "id": "86357379",
   "metadata": {},
   "outputs": [],
   "source": []
  }
 ],
 "metadata": {
  "kernelspec": {
   "display_name": "Python 3 (ipykernel)",
   "language": "python",
   "name": "python3"
  },
  "language_info": {
   "codemirror_mode": {
    "name": "ipython",
    "version": 3
   },
   "file_extension": ".py",
   "mimetype": "text/x-python",
   "name": "python",
   "nbconvert_exporter": "python",
   "pygments_lexer": "ipython3",
   "version": "3.10.6"
  }
 },
 "nbformat": 4,
 "nbformat_minor": 5
}
