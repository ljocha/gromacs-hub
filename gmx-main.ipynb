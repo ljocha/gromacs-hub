{
 "cells": [
  {
   "cell_type": "code",
   "execution_count": null,
   "id": "43a7326c",
   "metadata": {},
   "outputs": [],
   "source": [
    "import ipywidgets as w\n",
    "import nglview as nv\n",
    "import glob\n",
    "import os\n",
    "from gmx import GMX\n",
    "import re\n",
    "import time"
   ]
  },
  {
   "cell_type": "code",
   "execution_count": null,
   "id": "f429afe1",
   "metadata": {},
   "outputs": [],
   "source": [
    "pdbview = nv.NGLWidget()\n",
    "pdbview_component = None\n",
    "cartoon = w.Checkbox(description='Cartoon',value=True)\n",
    "licorice = w.Checkbox(description='Licorice',value=True)\n",
    "\n",
    "def on_checkbox_click(e):\n",
    "    set_pdbview_representation()\n",
    "\n",
    "cartoon.observe(on_checkbox_click,names='value')\n",
    "licorice.observe(on_checkbox_click,names='value')"
   ]
  },
  {
   "cell_type": "code",
   "execution_count": null,
   "id": "1b17f1d8",
   "metadata": {},
   "outputs": [],
   "source": [
    "pdbs = w.Dropdown(\n",
    "    options=glob.glob('*.pdb') + ['none'],\n",
    "    value='none',\n",
    "    description='Current filename',\n",
    "    disabled=False,\n",
    ")\n",
    "\n",
    "def set_pdbview_representation():\n",
    "    pdbview.clear()\n",
    "    if cartoon.value:\n",
    "        pdbview.add_cartoon(color='restype')\n",
    "    if licorice.value:\n",
    "        pdbview.add_licorice()\n",
    "\n",
    "\n",
    "def pdb_choose(e):\n",
    "    global pdbview_component\n",
    "#    print('pdb_choose:',e)\n",
    "    if pdbview.n_components > 0:\n",
    "        pdbview.remove_component(pdbview_component)\n",
    "    pdbs.value = e['new']\n",
    "    if pdbs.value != 'none':\n",
    "        pdbview_component = pdbview.add_component(pdbs.value)\n",
    "        set_pdbview_representation()\n",
    "    \n",
    "\n",
    "pdbs.observe(pdb_choose,'value')\n"
   ]
  },
  {
   "cell_type": "code",
   "execution_count": null,
   "id": "ad34348b",
   "metadata": {},
   "outputs": [],
   "source": [
    "upload = w.FileUpload(accept='pdb',multiple=False)\n",
    "\n",
    "def on_upload_pdb(c):\n",
    "#    global pdbview_component\n",
    "#    print(upload.value)\n",
    "    fname = list(upload.value.keys())[0]\n",
    "    with open(fname,'wb') as f:\n",
    "        f.write(list(upload.value.values())[0]['content'])\n",
    "    \n",
    "    pdbs.options = glob.glob('*.pdb') + ['none']\n",
    "#    pdbs.value = fname\n",
    "    upload.value.clear()\n",
    "    pdb_choose({'new':fname})\n",
    "\n",
    "#    if pdbview.n_components > 0:\n",
    "#        pdbview.remove_component(pdbview_component)\n",
    "#    pdbview_component = pdbview.add_component(name.value)\n",
    "#    set_pdbview_representation()\n",
    "    \n",
    "\n",
    "    \n",
    "    \n",
    "upload.observe(on_upload_pdb,'_counter')\n"
   ]
  },
  {
   "cell_type": "code",
   "execution_count": null,
   "id": "95c38dbd",
   "metadata": {},
   "outputs": [],
   "source": [
    "start = w.Button(\n",
    "    description='Run',\n",
    "    disabled=False,\n",
    "    button_style='danger', # 'success', 'info', 'warning', 'danger' or ''\n",
    "    tooltip='Run',\n",
    "    icon='check', # (FontAwesome names without the `fa-` prefix)\n",
    ")"
   ]
  },
  {
   "cell_type": "code",
   "execution_count": null,
   "id": "e9ab2860",
   "metadata": {},
   "outputs": [],
   "source": [
    "prep = w.IntProgress(\n",
    "    value=0,min=0,max=6,\n",
    "    description='Prepare:',\n",
    "    bar_style='', # 'success', 'info', 'warning', 'danger' or ''\n",
    "    style={'bar_color': 'blue'},\n",
    "    orientation='horizontal'\n",
    ")\n",
    "\n",
    "minim = w.FloatProgress(\n",
    "    value=0.,min=0.,max=1.,\n",
    "    description='Minimize:',\n",
    "    bar_style='', # 'success', 'info', 'warning', 'danger' or ''\n",
    "    style={'bar_color': 'yellow'},\n",
    "    orientation='horizontal'\n",
    ")\n",
    "\n",
    "nvt = w.IntProgress(\n",
    "    value=0,min=0,max=5,\n",
    "    description='NVT:',\n",
    "    bar_style='', # 'success', 'info', 'warning', 'danger' or ''\n",
    "    style={'bar_color': 'yellow'},\n",
    "    orientation='horizontal'\n",
    ")\n",
    "\n",
    "npt = w.IntProgress(\n",
    "    value=0,min=0,max=5,\n",
    "    description='NPT:',\n",
    "    bar_style='', # 'success', 'info', 'warning', 'danger' or ''\n",
    "    style={'bar_color': 'yellow'},\n",
    "    orientation='horizontal'\n",
    ")\n",
    "\n",
    "\n",
    "err = w.Textarea(description='Error:',layout=w.Layout(width='90%',visibility='hidden'))"
   ]
  },
  {
   "cell_type": "code",
   "execution_count": null,
   "id": "c8d7527f",
   "metadata": {},
   "outputs": [],
   "source": [
    "prepare = w.VBox([w.HBox([upload, pdbs]), w.HBox([pdbview, w.VBox([cartoon, licorice])]),\n",
    "               w.HBox([prep,minim, nvt,npt]), err, start])\n"
   ]
  },
  {
   "cell_type": "code",
   "execution_count": null,
   "id": "4637a787",
   "metadata": {},
   "outputs": [],
   "source": [
    "bias = w.Label('TODO')\n",
    "mdrun = w.Label('TODO')"
   ]
  },
  {
   "cell_type": "code",
   "execution_count": null,
   "id": "6a9e1f95",
   "metadata": {},
   "outputs": [],
   "source": [
    "mnt=os.popen('mount | grep /home/jovyan').read()\n",
    "pvcid=re.search('pvc-[0-9a-z-]+',mnt).group(0)\n",
    "pvc=os.popen(f'kubectl get pvc | grep {pvcid} | cut -f1 -d\" \"').read().rstrip()\n",
    "pvc"
   ]
  },
  {
   "cell_type": "code",
   "execution_count": null,
   "id": "8f883d78",
   "metadata": {},
   "outputs": [],
   "source": [
    "gmx = GMX(pvc=pvc,workdir='')"
   ]
  },
  {
   "cell_type": "code",
   "execution_count": null,
   "id": "adeabddf",
   "metadata": {},
   "outputs": [],
   "source": [
    "def check_stat():\n",
    "    global gmx, prep, err\n",
    "    while not gmx.status().succeeded and not gmx.status().failed:\n",
    "        time.sleep(1)\n",
    "    if gmx.status().succeeded:\n",
    "        prep.value += 1\n",
    "        ret = True\n",
    "    else:\n",
    "        err.value = gmx.log()\n",
    "        err.layout.visibility = 'visible'\n",
    "        ret = False\n",
    "    gmx.delete()\n",
    "    return ret\n",
    "        \n",
    "prep.value = 0\n",
    "err.value = ''\n",
    "mdbox=2.0\n",
    "\n",
    "def run_prepare(e):\n",
    "    pdb = pdbs.value\n",
    "    base = pdb.replace('.pdb','')\n",
    "    prep.value = 1\n",
    "    prep.style.bar_color = 'blue'\n",
    "    err.layout.visibility = 'hidden'\n",
    "    err.value = ''\n",
    "    ok = True\n",
    "    for cmd in [\n",
    "        f\"pdb2gmx -f {pdb} -o {base}.gro -p {base}.top -water tip3p -ff amber94 -ignh\",\n",
    "        f\"editconf -f {base}.gro -o {base}-box.gro -c -d {mdbox} -bt dodecahedron\",\n",
    "        f\"solvate -cp {base}-box.gro -cs spc216.gro -o {base}-solv.gro -p {base}.top\",\n",
    "        f\"grompp -f ions.mdp -c {base}-solv.gro -p {base}.top -o ions.tpr\",\n",
    "        (f\"genion -s ions.tpr -o {base}-ions.gro -p {base}.top -pname NA -nname CL -neutral\",\"13\"),\n",
    "     ]:\n",
    "        if isinstance(cmd,str):\n",
    "            gmx.start(cmd)\n",
    "        else:\n",
    "            gmx.start(cmd[0],input=cmd[1])\n",
    "        ok = check_stat()\n",
    "        if not ok:\n",
    "            break\n",
    "\n",
    "    prep.style.bar_color = 'green' if ok else 'red'\n",
    "    \n",
    "start.on_click(run_prepare)"
   ]
  },
  {
   "cell_type": "code",
   "execution_count": null,
   "id": "20c29ad0",
   "metadata": {},
   "outputs": [],
   "source": [
    "main = w.Tab()\n",
    "main.children = [prepare, bias, mdrun]\n",
    "main.set_title(0,'Prepare molecule')\n",
    "main.set_title(1,'Bias potential')\n",
    "main.set_title(2,'Run MD')\n",
    "display(main)"
   ]
  },
  {
   "cell_type": "code",
   "execution_count": null,
   "id": "5b72f75e",
   "metadata": {},
   "outputs": [],
   "source": []
  },
  {
   "cell_type": "code",
   "execution_count": null,
   "id": "e5d0c308",
   "metadata": {},
   "outputs": [],
   "source": []
  },
  {
   "cell_type": "code",
   "execution_count": null,
   "id": "308f329a",
   "metadata": {},
   "outputs": [],
   "source": []
  },
  {
   "cell_type": "code",
   "execution_count": null,
   "id": "0d57105f",
   "metadata": {},
   "outputs": [],
   "source": [
    "\"\"\"\n",
    "gmx.start(f\"grompp -f minim-sol.mdp -c {base}-ions.gro -p {base}.top -o em.tpr\") # XXX: error\n",
    "gmx.delete()\n",
    "gmx.start(f\"mdrun -v -deffnm em -pin on\",cores=4,gpus=1)\n",
    "\n",
    "maxs = 500\n",
    "while not gmx.status().succeeded:\n",
    "    with open('em.log') as log:\n",
    "        for i,l in reversed(enumerate(log)):\n",
    "            if re.match('\\s+Step\\s+Time',l):\n",
    "                s = float(re.match('\\s+([[:digit:]]+)\\s+',prev).group(1))\n",
    "                break\n",
    "            prev = l\n",
    "    if s >= maxs:\n",
    "        maxs += 500\n",
    "    minim.value = s / maxs\n",
    "    sleep(1)\n",
    "\"\"\"\n"
   ]
  },
  {
   "cell_type": "code",
   "execution_count": null,
   "id": "4d211d1a",
   "metadata": {},
   "outputs": [],
   "source": [
    "#gmx.start(f\"mdrun -v -deffnm em -pin on\",cores=4,gpus=1)"
   ]
  },
  {
   "cell_type": "code",
   "execution_count": null,
   "id": "8de5666c",
   "metadata": {},
   "outputs": [],
   "source": [
    "# print(gmx.log())"
   ]
  },
  {
   "cell_type": "code",
   "execution_count": null,
   "id": "5069e7ec",
   "metadata": {},
   "outputs": [],
   "source": [
    "!ls"
   ]
  },
  {
   "cell_type": "code",
   "execution_count": null,
   "id": "67a6b86a",
   "metadata": {},
   "outputs": [],
   "source": [
    "!date"
   ]
  },
  {
   "cell_type": "code",
   "execution_count": null,
   "id": "24f4a0e5",
   "metadata": {},
   "outputs": [],
   "source": [
    "!ls /opt/gmx/lib/python3.10/site-packages/gmx/"
   ]
  },
  {
   "cell_type": "code",
   "execution_count": null,
   "id": "cf0a6dd0",
   "metadata": {},
   "outputs": [],
   "source": []
  }
 ],
 "metadata": {
  "kernelspec": {
   "display_name": "Python 3 (ipykernel)",
   "language": "python",
   "name": "python3"
  },
  "language_info": {
   "codemirror_mode": {
    "name": "ipython",
    "version": 3
   },
   "file_extension": ".py",
   "mimetype": "text/x-python",
   "name": "python",
   "nbconvert_exporter": "python",
   "pygments_lexer": "ipython3",
   "version": "3.10.6"
  }
 },
 "nbformat": 4,
 "nbformat_minor": 5
}
