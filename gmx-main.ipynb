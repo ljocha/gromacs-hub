{
 "cells": [
  {
   "cell_type": "code",
   "execution_count": 1,
   "id": "43a7326c",
   "metadata": {},
   "outputs": [
    {
     "data": {
      "application/vnd.jupyter.widget-view+json": {
       "model_id": "40ea28e0eb634773bc3b67ea8dbb6213",
       "version_major": 2,
       "version_minor": 0
      },
      "text/plain": []
     },
     "metadata": {},
     "output_type": "display_data"
    }
   ],
   "source": [
    "import ipywidgets as w\n",
    "import nglview as nv"
   ]
  },
  {
   "cell_type": "code",
   "execution_count": 2,
   "id": "ad34348b",
   "metadata": {},
   "outputs": [],
   "source": [
    "txt = w.Text(\n",
    "    value='lorem ipsum',\n",
    "    disabled=False,\n",
    "    tooltip='Blabla blablabla.',\n",
    "    layout=w.Layout(width='90%'))\n",
    "\n",
    "start = w.Button(\n",
    "    description='Run',\n",
    "    disabled=False,\n",
    "    button_style='danger', # 'success', 'info', 'warning', 'danger' or ''\n",
    "    tooltip='Run',\n",
    "    icon='check', # (FontAwesome names without the `fa-` prefix)\n",
    ")\n",
    "\n",
    "upload = w.FileUpload(accept='pdb',multiple=False)\n",
    "name = w.Label()"
   ]
  },
  {
   "cell_type": "code",
   "execution_count": 3,
   "id": "f429afe1",
   "metadata": {},
   "outputs": [],
   "source": [
    "pdbview = nv.NGLWidget()\n",
    "cartoon = w.Checkbox(description='Cartoon',value=True)\n",
    "licorice = w.Checkbox(description='Licorice',value=True)\n",
    "\n",
    "def on_checkbox_click(e):\n",
    "    pdbview.clear()\n",
    "    if cartoon.value:\n",
    "        pdbview.add_cartoon()\n",
    "    if licorice.value:\n",
    "        pdbview.add_licorice()\n",
    "            \n",
    "\n",
    "def on_upload_pdb(c):\n",
    "#    print(upload.value)\n",
    "    with open('mol.pdb','wb') as f:\n",
    "        f.write(list(upload.value.values())[0]['content'])\n",
    "    pdbview.add_component('mol.pdb')\n",
    "    pdbview.add_cartoon()\n",
    "    pdbview.add_licorice()\n",
    "    name.value = list(upload.value.keys())[0]\n",
    "    \n",
    "upload.observe(on_upload_pdb,'_counter')\n",
    "cartoon.observe(on_checkbox_click,names='value')\n",
    "licorice.observe(on_checkbox_click,names='value')"
   ]
  },
  {
   "cell_type": "code",
   "execution_count": 4,
   "id": "c8d7527f",
   "metadata": {},
   "outputs": [
    {
     "data": {
      "application/vnd.jupyter.widget-view+json": {
       "model_id": "14991af8f8c9489ba3f220ae2ba3de32",
       "version_major": 2,
       "version_minor": 0
      },
      "text/plain": [
       "VBox(children=(FileUpload(value={}, accept='pdb', description='Upload'), Label(value=''), NGLWidget(), Checkbo…"
      ]
     },
     "metadata": {},
     "output_type": "display_data"
    }
   ],
   "source": [
    "import random\n",
    "\n",
    "def set_random(event):\n",
    "    txt.value = str(random.randint(0,100)) + \" \" + str(upload.value[0])\n",
    "    \n",
    "start.on_click(set_random)\n",
    "main = w.VBox([upload, name, pdbview, cartoon, licorice, start])\n",
    "display(main)"
   ]
  },
  {
   "cell_type": "code",
   "execution_count": null,
   "id": "740ca10b",
   "metadata": {},
   "outputs": [],
   "source": [
    "!ls"
   ]
  },
  {
   "cell_type": "code",
   "execution_count": null,
   "id": "84c8d7fc",
   "metadata": {},
   "outputs": [],
   "source": []
  }
 ],
 "metadata": {
  "kernelspec": {
   "display_name": "Python 3 (ipykernel)",
   "language": "python",
   "name": "python3"
  },
  "language_info": {
   "codemirror_mode": {
    "name": "ipython",
    "version": 3
   },
   "file_extension": ".py",
   "mimetype": "text/x-python",
   "name": "python",
   "nbconvert_exporter": "python",
   "pygments_lexer": "ipython3",
   "version": "3.10.6"
  }
 },
 "nbformat": 4,
 "nbformat_minor": 5
}
