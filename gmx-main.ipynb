{
 "cells": [
  {
   "cell_type": "code",
   "execution_count": null,
   "id": "2b9cb4ef",
   "metadata": {},
   "outputs": [],
   "source": [
    "import ipywidgets as w\n",
    "import gmx.widgets as gw"
   ]
  },
  {
   "cell_type": "code",
   "execution_count": null,
   "id": "039847dc",
   "metadata": {},
   "outputs": [],
   "source": [
    "%matplotlib widget"
   ]
  },
  {
   "cell_type": "code",
   "execution_count": null,
   "id": "e88cbd48",
   "metadata": {},
   "outputs": [],
   "source": [
    "main = gw.Main()\n",
    "main.select = gw.MolSelect(main)\n",
    "main.status = gw.Status(main)\n",
    "main.view = gw.MolView(main)\n",
    "main.ctrl = gw.Ctrl(main)\n",
    "main.msg = w.Textarea(layout = w.Layout(width='99%',height='30ex'))\n",
    "main.build()\n",
    "display(main)"
   ]
  },
  {
   "cell_type": "code",
   "execution_count": null,
   "id": "2e78a1df",
   "metadata": {},
   "outputs": [],
   "source": [
    "import _thread\n",
    "_thread.start_new_thread(lambda: main.status.watch(),())\n",
    "pass"
   ]
  },
  {
   "cell_type": "code",
   "execution_count": null,
   "id": "b45758e4",
   "metadata": {},
   "outputs": [],
   "source": []
  }
 ],
 "metadata": {
  "kernelspec": {
   "display_name": "Python 3 (ipykernel)",
   "language": "python",
   "name": "python3"
  },
  "language_info": {
   "codemirror_mode": {
    "name": "ipython",
    "version": 3
   },
   "file_extension": ".py",
   "mimetype": "text/x-python",
   "name": "python",
   "nbconvert_exporter": "python",
   "pygments_lexer": "ipython3",
   "version": "3.10.6"
  }
 },
 "nbformat": 4,
 "nbformat_minor": 5
}
