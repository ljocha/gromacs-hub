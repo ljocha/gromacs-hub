{
 "cells": [
  {
   "cell_type": "code",
   "execution_count": null,
   "id": "43a7326c",
   "metadata": {},
   "outputs": [],
   "source": [
    "import ipywidgets as w"
   ]
  },
  {
   "cell_type": "code",
   "execution_count": null,
   "id": "ad34348b",
   "metadata": {},
   "outputs": [],
   "source": [
    "txt = w.Text(\n",
    "    value='lorem ipsum',\n",
    "    disabled=False,\n",
    "    tooltip='Blabla blablabla.',\n",
    "    layout=w.Layout(width='90%'))\n",
    "\n",
    "start = w.Button(\n",
    "    description='Run',\n",
    "    disabled=False,\n",
    "    button_style='danger', # 'success', 'info', 'warning', 'danger' or ''\n",
    "    tooltip='Run',\n",
    "    icon='check', # (FontAwesome names without the `fa-` prefix)\n",
    ")\n",
    "\n",
    "upload = w.FileUpload(multiple=False)"
   ]
  },
  {
   "cell_type": "code",
   "execution_count": null,
   "id": "c8d7527f",
   "metadata": {},
   "outputs": [],
   "source": [
    "import random\n",
    "\n",
    "def set_random(event):\n",
    "    txt.value = str(random.randint(0,100)) + \" \" + str(upload.value[0])\n",
    "    \n",
    "start.on_click(set_random)\n",
    "main = w.VBox([txt, start, upload])\n",
    "display(main)"
   ]
  },
  {
   "cell_type": "code",
   "execution_count": null,
   "id": "b0218fb9",
   "metadata": {},
   "outputs": [],
   "source": []
  }
 ],
 "metadata": {
  "kernelspec": {
   "display_name": "Python 3 (ipykernel)",
   "language": "python",
   "name": "python3"
  },
  "language_info": {
   "codemirror_mode": {
    "name": "ipython",
    "version": 3
   },
   "file_extension": ".py",
   "mimetype": "text/x-python",
   "name": "python",
   "nbconvert_exporter": "python",
   "pygments_lexer": "ipython3",
   "version": "3.10.6"
  }
 },
 "nbformat": 4,
 "nbformat_minor": 5
}
